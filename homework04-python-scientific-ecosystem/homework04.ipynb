{
 "cells": [
  {
   "cell_type": "markdown",
   "metadata": {},
   "source": [
    "# Homework 04 - Numpy"
   ]
  },
  {
   "cell_type": "markdown",
   "metadata": {},
   "source": [
    "### Exercise 1 - Terminology\n",
    "\n",
    "Describe the following terms with your own words:\n",
    "\n",
    "***numpy array:*** multidiminsional lists, with extended functionalities, of ndarray type\n",
    "\n",
    "***broadcasting:*** "
   ]
  },
  {
   "cell_type": "markdown",
   "metadata": {},
   "source": [
    "Answer the following questions:\n",
    "\n",
    "***What is the difference between a Python list and a Numpy array?*** One NumPy array can only store one type of data \n",
    "\n",
    "\n",
    "***How can you avoid using loops or list comprehensions when working with Numpy?*** \n",
    "instead of a for loop to iterate over every element in a list; numpy: just use basic math operator to manipulate every object in the array, as ndarrays have an ... elementary (or something like this) structure\n",
    "np.arange() instead of range()\n",
    "\n",
    "\n",
    "***Give different examples of usages of square brackets `[]` in Python and Numpy? Describe at least two completely different ones!*** used to define lists/arrays, or lookup i form list/array\n",
    "\n",
    "\n",
    "***Give different examples of usages of round brackets `()` in Python and Numpy? Describe at least two completely different ones! (Bonus: give a third example not covered in the lecture until now!)***\n",
    "function calls\n",
    "define tulpes\n",
    "set operations\n",
    "\n"
   ]
  },
  {
   "cell_type": "markdown",
   "metadata": {},
   "source": [
    "### Exercise 2 - rotate and plot points in 2D\n",
    "\n",
    "Plot the 5 points in 2D defined in the array `points`, then rotate the points by 90 degrees by performing a matrix multiplication with a [rotation matrix](https://en.wikipedia.org/wiki/Rotation_matrix) by using `rotation_matrix @ points` and plot the result in the same plot. The rotation angle needs to be converted to radians before it is passed to `np.cos()` and `np.sin()`, use `np.radians(90)` to do so."
   ]
  },
  {
   "cell_type": "code",
   "execution_count": 2,
   "metadata": {},
   "outputs": [],
   "source": [
    "import numpy as np\n",
    "import matplotlib.pyplot as plt\n",
    "\n",
    "points = np.array([[0, 0],\n",
    "                   [1, 1],\n",
    "                   [-1, -1],\n",
    "                   [0, 1],\n",
    "                   [0, 0.7],\n",
    "                  ]).T\n",
    "\n",
    "x, y = points"
   ]
  },
  {
   "cell_type": "code",
   "execution_count": 3,
   "metadata": {},
   "outputs": [
    {
     "name": "stdout",
     "output_type": "stream",
     "text": [
      "[[ 0.   0.7]\n",
      " [ 0.   1. ]\n",
      " [-1.  -1. ]\n",
      " [ 1.   1. ]\n",
      " [ 0.   0. ]]\n"
     ]
    },
    {
     "data": {
      "image/png": "[encoded data removed]",
      "text/plain": [
       "<Figure size 432x288 with 1 Axes>"
      ]
     },
     "metadata": {
      "needs_background": "light"
     },
     "output_type": "display_data"
    }
   ],
   "source": [
    "\n",
    "# plot as usual\n",
    "plt.plot(x, y, 'o', color='b', marker='*', label=\"orignial points\")\n",
    "\n",
    "# same height and width\n",
    "plt.gca().set_aspect('equal')\n",
    "\n",
    "# set length of displayed x & y axis\n",
    "plt.xlim(-1.1, 1.1)\n",
    "plt.ylim(-1.1, 1.1)\n",
    "\n",
    "# not sure how to work w/ matrix @ points \n",
    "\n",
    "# 90 rotation\n",
    "rot_points = np.rot90(points)\n",
    "print(rot_points)\n",
    "rot_x, rot_y = rot_points.T\n",
    "# tried this instead, but didn't worked\n",
    "# same points just in a diffrent order\n",
    "\n",
    "plt.plot(rot_x, rot_y, 'o', color='g')\n",
    "\n",
    "plt.show()\n"
   ]
  },
  {
   "cell_type": "markdown",
   "metadata": {},
   "source": [
    "The result should like like this:"
   ]
  },
  {
   "cell_type": "code",
   "execution_count": 117,
   "metadata": {},
   "outputs": [
    {
     "data": {
      "image/png": "[encoded data removed]",
      "text/plain": [
       "<Figure size 432x288 with 1 Axes>"
      ]
     },
     "metadata": {
      "needs_background": "light"
     },
     "output_type": "display_data"
    }
   ],
   "source": [
    "plt.plot(*points, 'o', label='original points')\n",
    "plt.plot(*points_rotated, 'o', label='rotated points')\n",
    "plt.gca().set_aspect('equal')"
   ]
  },
  {
   "cell_type": "markdown",
   "metadata": {},
   "source": [
    "### Exercise 3 - Flatten the curve\n",
    "\n",
    "Copy the function `new_infections(t, k)` from last week's homework (exercise 3) and re-do the exercise using Numpy arrays instead of Python lists.\n",
    "\n",
    "What needs to be changed in the function `new_infections(t, k)` to make this work?"
   ]
  },
  {
   "cell_type": "code",
   "execution_count": 4,
   "metadata": {},
   "outputs": [],
   "source": [
    "# actually i already did it that way for the last homework\n",
    "\n",
    "from math import e\n",
    "\n",
    "t = np.arange(251)\n",
    "P = 1000000\n",
    "k = 3 / (P * 10)\n",
    "\n",
    "\n",
    "def new_infections (t, k):\n",
    "    infection_number = ((e**(-k*P*t))*k*P**2*(-1+(P/1))) / ((1+(e**(-k*P*t))*(-1+(P/1)))**2)\n",
    "    return infection_number\n"
   ]
  },
  {
   "cell_type": "markdown",
   "metadata": {},
   "source": [
    "### Exercise 4 - Mean of random numbers\n",
    "\n",
    "Generate 100 random values between 0 and 1 (uniformly distributed) and plot them. Then calculate the mean value of the first i values for $i=1,\\ldots,100$ and plot this list too.\n",
    "\n",
    "To solve the exercise find out how to generate random values with Numpy! How did you find an answer? Which possible ways are there? List at least ***2 to 5 different ways*** to look up what a numpy function does!\n",
    "\n",
    "Note: To solve this exercise, a list comprehension is necessary. Pure Numpy is faster, but probably not a good idea here."
   ]
  },
  {
   "cell_type": "code",
   "execution_count": 5,
   "metadata": {},
   "outputs": [
    {
     "name": "stdout",
     "output_type": "stream",
     "text": [
      "[0.60503604 0.30973578 0.00904    0.39519463 0.77043735 0.54668677\n",
      " 0.6517796  0.92976738 0.23043178 0.56074409 0.59357278 0.68507146\n",
      " 0.79707684 0.50237065 0.61875219 0.76967177 0.40655258 0.21632598\n",
      " 0.81169233 0.84865988 0.18901548 0.38196908 0.2926246  0.15682707\n",
      " 0.10287464 0.26309287 0.24606611 0.44467839 0.76486525 0.44302962\n",
      " 0.34707044 0.68918347 0.54975765 0.82498388 0.26101527 0.53444072\n",
      " 0.20780994 0.46027766 0.71927562 0.72282618 0.63060956 0.42820715\n",
      " 0.77551448 0.27200088 0.87961419 0.56629898 0.29051989 0.58135785\n",
      " 0.82447797 0.24300179 0.60954236 0.18734578 0.55786763 0.30926893\n",
      " 0.41540718 0.42274334 0.11653927 0.88336305 0.01047275 0.35867486\n",
      " 0.83578489 0.54854237 0.74761478 0.14486284 0.40994805 0.85172349\n",
      " 0.07611922 0.71510992 0.41264855 0.83922352 0.33753747 0.38077832\n",
      " 0.49191032 0.90812866 0.2190013  0.38370006 0.68939878 0.12390915\n",
      " 0.96167614 0.31404333 0.48439089 0.73769324 0.54815365 0.86843604\n",
      " 0.64574697 0.1091611  0.97007241 0.6037441  0.0044102  0.70080904\n",
      " 0.80700285 0.83238429 0.85525395 0.92543696 0.23773343 0.46337125\n",
      " 0.14566387 0.33561911 0.151588   0.98803615]\n"
     ]
    },
    {
     "data": {
      "text/plain": [
       "0.5102948035256084"
      ]
     },
     "execution_count": 5,
     "metadata": {},
     "output_type": "execute_result"
    }
   ],
   "source": [
    "# did the not good idea\n",
    "\n",
    "random_values = np.random.uniform(size=100)\n",
    "print(random_values)\n",
    "\n",
    "random_values_mean = np.mean(random_values)\n",
    "random_values_mean\n",
    "\n",
    "# 'calculate the mean value of the first i values i= 1,...,100 '\n",
    "# 'plot this list'\n",
    "# how is this a list? what am i missing?\n",
    "\n",
    "# List at least 2 to 5 diffrent ways\n",
    "# waiting for the github issue response"
   ]
  }
 ],
 "metadata": {
  "kernelspec": {
   "display_name": "Python 3",
   "language": "python",
   "name": "python3"
  },
  "language_info": {
   "codemirror_mode": {
    "name": "ipython",
    "version": 3
   },
   "file_extension": ".py",
   "mimetype": "text/x-python",
   "name": "python",
   "nbconvert_exporter": "python",
   "pygments_lexer": "ipython3",
   "version": "3.7.7"
  }
 },
 "nbformat": 4,
 "nbformat_minor": 4
}
