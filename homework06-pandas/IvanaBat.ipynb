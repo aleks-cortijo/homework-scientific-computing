{
 "cells": [
  {
   "cell_type": "code",
   "execution_count": 1,
   "metadata": {},
   "outputs": [],
   "source": [
    "import matplotlib.pyplot as plt\n",
    "import pandas as pd\n",
    "import os\n",
    "import numpy as np\n",
    "import datetime\n",
    "import glob\n",
    "from pathlib import Path\n",
    "from sklearn import datasets, linear_model\n",
    "from sklearn.metrics import mean_squared_error, r2_score\n",
    "\n",
    "DOWNLOAD_DIR = r'C:\\Users\\PC\\entsoe-data'"
   ]
  },
  {
   "cell_type": "markdown",
   "metadata": {},
   "source": [
    "This will import the data, you have to run it to be able to solve the homework."
   ]
  },
  {
   "cell_type": "code",
   "execution_count": 2,
   "metadata": {},
   "outputs": [
    {
     "name": "stdout",
     "output_type": "stream",
     "text": [
      "Concatenating 68 csv files...\n",
      "Loading done.\n"
     ]
    }
   ],
   "source": [
    "def read_single_csv_entso_e(file):\n",
    "    return pd.read_csv(file, sep='\\t', encoding='utf-16', parse_dates=[\"DateTime\"])\n",
    "\n",
    "\n",
    "def load_complete_entso_e_data(directory):\n",
    "    pattern = Path(directory) / '*.csv'\n",
    "    files = glob.glob(str(pattern))\n",
    "\n",
    "    if not files:\n",
    "        raise ValueError(f\"No files found when searching in {pattern}, wrong directory?\")\n",
    "    \n",
    "    print(f'Concatenating {len(files)} csv files...')\n",
    "\n",
    "    each_csv_file = [read_single_csv_entso_e(file) for file in files]\n",
    "    data = pd.concat(each_csv_file, ignore_index=True)\n",
    "\n",
    "    data = data.sort_values(by=[\"AreaName\", \"DateTime\"])\n",
    "    data = data.set_index(\"DateTime\")\n",
    "\n",
    "    print(\"Loading done.\")\n",
    "\n",
    "    return data\n",
    "\n",
    "\n",
    "power_demand = load_complete_entso_e_data(DOWNLOAD_DIR)"
   ]
  },
  {
   "cell_type": "markdown",
   "metadata": {},
   "source": [
    "# Exercise 1 - Calculate the relation of Wednesday average consumption to Sunday average consumption for selected countries\n",
    "\n",
    "In this exercise, calculate the relation of Wednesday average consumption to Sunday average consumption for the following countries: Austria, Germany, United Kingdom, Spain, Sweden, Italy, Croatia.\n",
    "\n",
    "(1) First create a variable that contains only power consumption data for these countries. The pandas command ```isin()``` may be very helpful here. Reduce the data to only consider the period 2015-01-01 until 2019-12-31. The lecture slides may contain relevant code here.\n",
    "\n",
    "(2) Then, group the data by weekday and country (i.e. AreaName). Use ```groupby``` and ```mean```for that purpose. \n",
    "\n",
    "(3) Calculate for all countries the proportion of Wednesday (day 2) and Sunday (day 6) by dividing the two values.\n",
    "\n",
    "(4) For which country, this relative value is highest? What could this indicate?"
   ]
  },
  {
   "cell_type": "code",
   "execution_count": 3,
   "metadata": {},
   "outputs": [
    {
     "data": {
      "text/plain": [
       "Index(['Year', 'Month', 'Day', 'ResolutionCode', 'areacode', 'AreaTypeCode',\n",
       "       'AreaName', 'MapCode', 'TotalLoadValue', 'UpdateTime'],\n",
       "      dtype='object')"
      ]
     },
     "execution_count": 3,
     "metadata": {},
     "output_type": "execute_result"
    }
   ],
   "source": [
    "power_demand.columns "
   ]
  },
  {
   "cell_type": "code",
   "execution_count": 4,
   "metadata": {},
   "outputs": [],
   "source": [
    "countries = power_demand['AreaName'].isin(['Austria', 'Germany', 'United Kingdom', 'Spain', 'Sweden', 'Italy', 'Croatia'])\n",
    "power_demand_countries = power_demand[countries]\n",
    "power_demand_selected = power_demand_countries['2015-01-01':'2019-12-31']"
   ]
  },
  {
   "cell_type": "code",
   "execution_count": 5,
   "metadata": {},
   "outputs": [
    {
     "data": {
      "text/html": [
       "<div>\n",
       "<style scoped>\n",
       "    .dataframe tbody tr th:only-of-type {\n",
       "        vertical-align: middle;\n",
       "    }\n",
       "\n",
       "    .dataframe tbody tr th {\n",
       "        vertical-align: top;\n",
       "    }\n",
       "\n",
       "    .dataframe thead th {\n",
       "        text-align: right;\n",
       "    }\n",
       "</style>\n",
       "<table border=\"1\" class=\"dataframe\">\n",
       "  <thead>\n",
       "    <tr style=\"text-align: right;\">\n",
       "      <th></th>\n",
       "      <th>Year</th>\n",
       "      <th>Month</th>\n",
       "      <th>Day</th>\n",
       "      <th>ResolutionCode</th>\n",
       "      <th>areacode</th>\n",
       "      <th>AreaTypeCode</th>\n",
       "      <th>AreaName</th>\n",
       "      <th>MapCode</th>\n",
       "      <th>TotalLoadValue</th>\n",
       "      <th>UpdateTime</th>\n",
       "    </tr>\n",
       "    <tr>\n",
       "      <th>DateTime</th>\n",
       "      <th></th>\n",
       "      <th></th>\n",
       "      <th></th>\n",
       "      <th></th>\n",
       "      <th></th>\n",
       "      <th></th>\n",
       "      <th></th>\n",
       "      <th></th>\n",
       "      <th></th>\n",
       "      <th></th>\n",
       "    </tr>\n",
       "  </thead>\n",
       "  <tbody>\n",
       "    <tr>\n",
       "      <th>2015-01-01 00:00:00</th>\n",
       "      <td>2015</td>\n",
       "      <td>1</td>\n",
       "      <td>1</td>\n",
       "      <td>PT15M</td>\n",
       "      <td>10YAT-APG------L</td>\n",
       "      <td>CTY</td>\n",
       "      <td>Austria</td>\n",
       "      <td>AT</td>\n",
       "      <td>6017.2</td>\n",
       "      <td>2017-09-14 04:00:15</td>\n",
       "    </tr>\n",
       "    <tr>\n",
       "      <th>2015-01-01 00:15:00</th>\n",
       "      <td>2015</td>\n",
       "      <td>1</td>\n",
       "      <td>1</td>\n",
       "      <td>PT15M</td>\n",
       "      <td>10YAT-APG------L</td>\n",
       "      <td>CTY</td>\n",
       "      <td>Austria</td>\n",
       "      <td>AT</td>\n",
       "      <td>5966.8</td>\n",
       "      <td>2017-09-14 04:00:15</td>\n",
       "    </tr>\n",
       "    <tr>\n",
       "      <th>2015-01-01 00:30:00</th>\n",
       "      <td>2015</td>\n",
       "      <td>1</td>\n",
       "      <td>1</td>\n",
       "      <td>PT15M</td>\n",
       "      <td>10YAT-APG------L</td>\n",
       "      <td>CTY</td>\n",
       "      <td>Austria</td>\n",
       "      <td>AT</td>\n",
       "      <td>5935.6</td>\n",
       "      <td>2017-09-14 04:00:15</td>\n",
       "    </tr>\n",
       "    <tr>\n",
       "      <th>2015-01-01 00:45:00</th>\n",
       "      <td>2015</td>\n",
       "      <td>1</td>\n",
       "      <td>1</td>\n",
       "      <td>PT15M</td>\n",
       "      <td>10YAT-APG------L</td>\n",
       "      <td>CTY</td>\n",
       "      <td>Austria</td>\n",
       "      <td>AT</td>\n",
       "      <td>5934.4</td>\n",
       "      <td>2017-09-14 04:00:15</td>\n",
       "    </tr>\n",
       "    <tr>\n",
       "      <th>2015-01-01 01:00:00</th>\n",
       "      <td>2015</td>\n",
       "      <td>1</td>\n",
       "      <td>1</td>\n",
       "      <td>PT15M</td>\n",
       "      <td>10YAT-APG------L</td>\n",
       "      <td>CTY</td>\n",
       "      <td>Austria</td>\n",
       "      <td>AT</td>\n",
       "      <td>5750.8</td>\n",
       "      <td>2017-09-14 04:00:15</td>\n",
       "    </tr>\n",
       "    <tr>\n",
       "      <th>...</th>\n",
       "      <td>...</td>\n",
       "      <td>...</td>\n",
       "      <td>...</td>\n",
       "      <td>...</td>\n",
       "      <td>...</td>\n",
       "      <td>...</td>\n",
       "      <td>...</td>\n",
       "      <td>...</td>\n",
       "      <td>...</td>\n",
       "      <td>...</td>\n",
       "    </tr>\n",
       "    <tr>\n",
       "      <th>2019-12-31 21:30:00</th>\n",
       "      <td>2019</td>\n",
       "      <td>12</td>\n",
       "      <td>31</td>\n",
       "      <td>PT30M</td>\n",
       "      <td>GB</td>\n",
       "      <td>CTY</td>\n",
       "      <td>United Kingdom</td>\n",
       "      <td>GB</td>\n",
       "      <td>34772.0</td>\n",
       "      <td>2020-01-06 22:16:17</td>\n",
       "    </tr>\n",
       "    <tr>\n",
       "      <th>2019-12-31 22:00:00</th>\n",
       "      <td>2019</td>\n",
       "      <td>12</td>\n",
       "      <td>31</td>\n",
       "      <td>PT30M</td>\n",
       "      <td>GB</td>\n",
       "      <td>CTY</td>\n",
       "      <td>United Kingdom</td>\n",
       "      <td>GB</td>\n",
       "      <td>32305.0</td>\n",
       "      <td>2020-01-06 22:16:17</td>\n",
       "    </tr>\n",
       "    <tr>\n",
       "      <th>2019-12-31 22:30:00</th>\n",
       "      <td>2019</td>\n",
       "      <td>12</td>\n",
       "      <td>31</td>\n",
       "      <td>PT30M</td>\n",
       "      <td>GB</td>\n",
       "      <td>CTY</td>\n",
       "      <td>United Kingdom</td>\n",
       "      <td>GB</td>\n",
       "      <td>31521.0</td>\n",
       "      <td>2020-01-06 22:16:17</td>\n",
       "    </tr>\n",
       "    <tr>\n",
       "      <th>2019-12-31 23:00:00</th>\n",
       "      <td>2019</td>\n",
       "      <td>12</td>\n",
       "      <td>31</td>\n",
       "      <td>PT30M</td>\n",
       "      <td>GB</td>\n",
       "      <td>CTY</td>\n",
       "      <td>United Kingdom</td>\n",
       "      <td>GB</td>\n",
       "      <td>31659.0</td>\n",
       "      <td>2020-01-06 22:31:19</td>\n",
       "    </tr>\n",
       "    <tr>\n",
       "      <th>2019-12-31 23:30:00</th>\n",
       "      <td>2019</td>\n",
       "      <td>12</td>\n",
       "      <td>31</td>\n",
       "      <td>PT30M</td>\n",
       "      <td>GB</td>\n",
       "      <td>CTY</td>\n",
       "      <td>United Kingdom</td>\n",
       "      <td>GB</td>\n",
       "      <td>31331.0</td>\n",
       "      <td>2020-01-06 22:31:19</td>\n",
       "    </tr>\n",
       "  </tbody>\n",
       "</table>\n",
       "<p>600307 rows × 10 columns</p>\n",
       "</div>"
      ],
      "text/plain": [
       "                     Year  Month  Day ResolutionCode          areacode  \\\n",
       "DateTime                                                                 \n",
       "2015-01-01 00:00:00  2015      1    1          PT15M  10YAT-APG------L   \n",
       "2015-01-01 00:15:00  2015      1    1          PT15M  10YAT-APG------L   \n",
       "2015-01-01 00:30:00  2015      1    1          PT15M  10YAT-APG------L   \n",
       "2015-01-01 00:45:00  2015      1    1          PT15M  10YAT-APG------L   \n",
       "2015-01-01 01:00:00  2015      1    1          PT15M  10YAT-APG------L   \n",
       "...                   ...    ...  ...            ...               ...   \n",
       "2019-12-31 21:30:00  2019     12   31          PT30M                GB   \n",
       "2019-12-31 22:00:00  2019     12   31          PT30M                GB   \n",
       "2019-12-31 22:30:00  2019     12   31          PT30M                GB   \n",
       "2019-12-31 23:00:00  2019     12   31          PT30M                GB   \n",
       "2019-12-31 23:30:00  2019     12   31          PT30M                GB   \n",
       "\n",
       "                    AreaTypeCode        AreaName MapCode  TotalLoadValue  \\\n",
       "DateTime                                                                   \n",
       "2015-01-01 00:00:00          CTY         Austria      AT          6017.2   \n",
       "2015-01-01 00:15:00          CTY         Austria      AT          5966.8   \n",
       "2015-01-01 00:30:00          CTY         Austria      AT          5935.6   \n",
       "2015-01-01 00:45:00          CTY         Austria      AT          5934.4   \n",
       "2015-01-01 01:00:00          CTY         Austria      AT          5750.8   \n",
       "...                          ...             ...     ...             ...   \n",
       "2019-12-31 21:30:00          CTY  United Kingdom      GB         34772.0   \n",
       "2019-12-31 22:00:00          CTY  United Kingdom      GB         32305.0   \n",
       "2019-12-31 22:30:00          CTY  United Kingdom      GB         31521.0   \n",
       "2019-12-31 23:00:00          CTY  United Kingdom      GB         31659.0   \n",
       "2019-12-31 23:30:00          CTY  United Kingdom      GB         31331.0   \n",
       "\n",
       "                              UpdateTime  \n",
       "DateTime                                  \n",
       "2015-01-01 00:00:00  2017-09-14 04:00:15  \n",
       "2015-01-01 00:15:00  2017-09-14 04:00:15  \n",
       "2015-01-01 00:30:00  2017-09-14 04:00:15  \n",
       "2015-01-01 00:45:00  2017-09-14 04:00:15  \n",
       "2015-01-01 01:00:00  2017-09-14 04:00:15  \n",
       "...                                  ...  \n",
       "2019-12-31 21:30:00  2020-01-06 22:16:17  \n",
       "2019-12-31 22:00:00  2020-01-06 22:16:17  \n",
       "2019-12-31 22:30:00  2020-01-06 22:16:17  \n",
       "2019-12-31 23:00:00  2020-01-06 22:31:19  \n",
       "2019-12-31 23:30:00  2020-01-06 22:31:19  \n",
       "\n",
       "[600307 rows x 10 columns]"
      ]
     },
     "execution_count": 5,
     "metadata": {},
     "output_type": "execute_result"
    }
   ],
   "source": [
    "power_demand_selected"
   ]
  },
  {
   "cell_type": "code",
   "execution_count": 6,
   "metadata": {},
   "outputs": [],
   "source": [
    "power_demand_selected_country = power_demand_selected.groupby([power_demand_selected.index.weekday,\n",
    "                                                               \"AreaName\"]).mean()"
   ]
  },
  {
   "cell_type": "code",
   "execution_count": 7,
   "metadata": {},
   "outputs": [
    {
     "data": {
      "text/html": [
       "<div>\n",
       "<style scoped>\n",
       "    .dataframe tbody tr th:only-of-type {\n",
       "        vertical-align: middle;\n",
       "    }\n",
       "\n",
       "    .dataframe tbody tr th {\n",
       "        vertical-align: top;\n",
       "    }\n",
       "\n",
       "    .dataframe thead th {\n",
       "        text-align: right;\n",
       "    }\n",
       "</style>\n",
       "<table border=\"1\" class=\"dataframe\">\n",
       "  <thead>\n",
       "    <tr style=\"text-align: right;\">\n",
       "      <th></th>\n",
       "      <th>TotalLoadValue</th>\n",
       "    </tr>\n",
       "    <tr>\n",
       "      <th>AreaName</th>\n",
       "      <th></th>\n",
       "    </tr>\n",
       "  </thead>\n",
       "  <tbody>\n",
       "    <tr>\n",
       "      <th>Austria</th>\n",
       "      <td>7597.097115</td>\n",
       "    </tr>\n",
       "    <tr>\n",
       "      <th>Croatia</th>\n",
       "      <td>2072.242308</td>\n",
       "    </tr>\n",
       "    <tr>\n",
       "      <th>Germany</th>\n",
       "      <td>59894.796293</td>\n",
       "    </tr>\n",
       "    <tr>\n",
       "      <th>Italy</th>\n",
       "      <td>35925.647596</td>\n",
       "    </tr>\n",
       "    <tr>\n",
       "      <th>Spain</th>\n",
       "      <td>30108.756696</td>\n",
       "    </tr>\n",
       "    <tr>\n",
       "      <th>Sweden</th>\n",
       "      <td>16188.529006</td>\n",
       "    </tr>\n",
       "    <tr>\n",
       "      <th>United Kingdom</th>\n",
       "      <td>37681.473124</td>\n",
       "    </tr>\n",
       "  </tbody>\n",
       "</table>\n",
       "</div>"
      ],
      "text/plain": [
       "                TotalLoadValue\n",
       "AreaName                      \n",
       "Austria            7597.097115\n",
       "Croatia            2072.242308\n",
       "Germany           59894.796293\n",
       "Italy             35925.647596\n",
       "Spain             30108.756696\n",
       "Sweden            16188.529006\n",
       "United Kingdom    37681.473124"
      ]
     },
     "execution_count": 7,
     "metadata": {},
     "output_type": "execute_result"
    }
   ],
   "source": [
    "power_demand_wends = power_demand_selected_country.loc[2,[\"TotalLoadValue\"]]\n",
    "power_demand_sunday = power_demand_selected_country.loc[6,[\"TotalLoadValue\"]]\n",
    "\n",
    "power_demand_wends"
   ]
  },
  {
   "cell_type": "code",
   "execution_count": 8,
   "metadata": {},
   "outputs": [
    {
     "data": {
      "text/html": [
       "<div>\n",
       "<style scoped>\n",
       "    .dataframe tbody tr th:only-of-type {\n",
       "        vertical-align: middle;\n",
       "    }\n",
       "\n",
       "    .dataframe tbody tr th {\n",
       "        vertical-align: top;\n",
       "    }\n",
       "\n",
       "    .dataframe thead th {\n",
       "        text-align: right;\n",
       "    }\n",
       "</style>\n",
       "<table border=\"1\" class=\"dataframe\">\n",
       "  <thead>\n",
       "    <tr style=\"text-align: right;\">\n",
       "      <th></th>\n",
       "      <th>TotalLoadValue</th>\n",
       "    </tr>\n",
       "    <tr>\n",
       "      <th>AreaName</th>\n",
       "      <th></th>\n",
       "    </tr>\n",
       "  </thead>\n",
       "  <tbody>\n",
       "    <tr>\n",
       "      <th>Austria</th>\n",
       "      <td>5982.295785</td>\n",
       "    </tr>\n",
       "    <tr>\n",
       "      <th>Croatia</th>\n",
       "      <td>1802.134738</td>\n",
       "    </tr>\n",
       "    <tr>\n",
       "      <th>Germany</th>\n",
       "      <td>46127.261956</td>\n",
       "    </tr>\n",
       "    <tr>\n",
       "      <th>Italy</th>\n",
       "      <td>26104.259419</td>\n",
       "    </tr>\n",
       "    <tr>\n",
       "      <th>Spain</th>\n",
       "      <td>24857.647031</td>\n",
       "    </tr>\n",
       "    <tr>\n",
       "      <th>Sweden</th>\n",
       "      <td>14489.429647</td>\n",
       "    </tr>\n",
       "    <tr>\n",
       "      <th>United Kingdom</th>\n",
       "      <td>33251.563333</td>\n",
       "    </tr>\n",
       "  </tbody>\n",
       "</table>\n",
       "</div>"
      ],
      "text/plain": [
       "                TotalLoadValue\n",
       "AreaName                      \n",
       "Austria            5982.295785\n",
       "Croatia            1802.134738\n",
       "Germany           46127.261956\n",
       "Italy             26104.259419\n",
       "Spain             24857.647031\n",
       "Sweden            14489.429647\n",
       "United Kingdom    33251.563333"
      ]
     },
     "execution_count": 8,
     "metadata": {},
     "output_type": "execute_result"
    }
   ],
   "source": [
    "power_demand_sunday"
   ]
  },
  {
   "cell_type": "code",
   "execution_count": 10,
   "metadata": {},
   "outputs": [
    {
     "data": {
      "text/html": [
       "<div>\n",
       "<style scoped>\n",
       "    .dataframe tbody tr th:only-of-type {\n",
       "        vertical-align: middle;\n",
       "    }\n",
       "\n",
       "    .dataframe tbody tr th {\n",
       "        vertical-align: top;\n",
       "    }\n",
       "\n",
       "    .dataframe thead th {\n",
       "        text-align: right;\n",
       "    }\n",
       "</style>\n",
       "<table border=\"1\" class=\"dataframe\">\n",
       "  <thead>\n",
       "    <tr style=\"text-align: right;\">\n",
       "      <th></th>\n",
       "      <th>TotalLoadValue</th>\n",
       "    </tr>\n",
       "    <tr>\n",
       "      <th>AreaName</th>\n",
       "      <th></th>\n",
       "    </tr>\n",
       "  </thead>\n",
       "  <tbody>\n",
       "    <tr>\n",
       "      <th>Austria</th>\n",
       "      <td>1.269930</td>\n",
       "    </tr>\n",
       "    <tr>\n",
       "      <th>Croatia</th>\n",
       "      <td>1.149882</td>\n",
       "    </tr>\n",
       "    <tr>\n",
       "      <th>Germany</th>\n",
       "      <td>1.298468</td>\n",
       "    </tr>\n",
       "    <tr>\n",
       "      <th>Italy</th>\n",
       "      <td>1.376237</td>\n",
       "    </tr>\n",
       "    <tr>\n",
       "      <th>Spain</th>\n",
       "      <td>1.211247</td>\n",
       "    </tr>\n",
       "    <tr>\n",
       "      <th>Sweden</th>\n",
       "      <td>1.117265</td>\n",
       "    </tr>\n",
       "    <tr>\n",
       "      <th>United Kingdom</th>\n",
       "      <td>1.133224</td>\n",
       "    </tr>\n",
       "  </tbody>\n",
       "</table>\n",
       "</div>"
      ],
      "text/plain": [
       "                TotalLoadValue\n",
       "AreaName                      \n",
       "Austria               1.269930\n",
       "Croatia               1.149882\n",
       "Germany               1.298468\n",
       "Italy                 1.376237\n",
       "Spain                 1.211247\n",
       "Sweden                1.117265\n",
       "United Kingdom        1.133224"
      ]
     },
     "execution_count": 10,
     "metadata": {},
     "output_type": "execute_result"
    }
   ],
   "source": [
    "power_demand_ratio= power_demand_wends / power_demand_sunday\n",
    "power_demand_ratio"
   ]
  },
  {
   "cell_type": "code",
   "execution_count": 17,
   "metadata": {},
   "outputs": [
    {
     "data": {
      "text/plain": [
       "TotalLoadValue    Italy\n",
       "dtype: object"
      ]
     },
     "execution_count": 17,
     "metadata": {},
     "output_type": "execute_result"
    }
   ],
   "source": [
    "highest_relation = power_demand_ratio.idxmax()\n",
    "\n",
    "highest_relation"
   ]
  },
  {
   "cell_type": "markdown",
   "metadata": {},
   "source": [
    "# Exercise 2 - Calculate the monthly average consumption as deviation from mean consumption\n",
    "\n",
    "For the same countries as in the above dataset, calculate the monthly mean consumption as deviation from the mean of consumption over the whole time. Plot the curves for all countries.\n",
    "\n",
    "(1) First create a variable that contains only power consumption data for the selected countries. The pandas command ```isin()``` may be very helpful here. If you did Exercise 1, you can use the same dataset.\n",
    "\n",
    "(2) Then, aggregate the data by country (i.e. AreaName) and month. Use ```groupby``` and ```mean``` for that purpose. Select the column ```TotalLoadValue``` from the result.\n",
    "\n",
    "(3)  Aggregate the data by country (i..e AreaName) only, i.e. calculate the average consumption by country using ```groupby``` and ```mean```. Select the column ```TotalLoadValue``` from the result.\n",
    "\n",
    "(4) Divide the result of (2) by (3) and observe how well broadcasting works here.\n",
    "\n",
    "(5) Use the command ```unstack``` on the result. How does the table look now? Plot the result. If your resulting, unstacked dataframe is called ```result```, you may use ```result.plot()``` to get a nice plot.\n",
    "\n",
    "(6) How would you explain the difference in the curve between Croatia and Sweden?\n"
   ]
  },
  {
   "cell_type": "code",
   "execution_count": 18,
   "metadata": {},
   "outputs": [
    {
     "data": {
      "text/plain": [
       "DateTime  AreaName      \n",
       "1         Austria            7950.379010\n",
       "          Croatia            2168.034050\n",
       "          Germany           59446.334530\n",
       "          Italy             34025.931676\n",
       "          Spain             30523.615229\n",
       "                                ...     \n",
       "12        Germany           56845.299636\n",
       "          Italy             32589.833916\n",
       "          Spain             28539.761810\n",
       "          Sweden            18056.958889\n",
       "          United Kingdom    38694.120942\n",
       "Name: TotalLoadValue, Length: 84, dtype: float64"
      ]
     },
     "execution_count": 18,
     "metadata": {},
     "output_type": "execute_result"
    }
   ],
   "source": [
    "power_demand_monthly = power_demand_countries.groupby([power_demand_countries.index.month, 'AreaName']).mean()\n",
    "power_demand_monthly = power_demand_monthly['TotalLoadValue']\n",
    "power_demand_monthly"
   ]
  },
  {
   "cell_type": "code",
   "execution_count": 19,
   "metadata": {},
   "outputs": [
    {
     "data": {
      "text/plain": [
       "AreaName\n",
       "Austria            7120.328645\n",
       "Croatia            1997.900597\n",
       "Germany           55852.649871\n",
       "Italy             32947.646759\n",
       "Spain             28523.788496\n",
       "Sweden            15723.467380\n",
       "United Kingdom    36215.744643\n",
       "Name: TotalLoadValue, dtype: float64"
      ]
     },
     "execution_count": 19,
     "metadata": {},
     "output_type": "execute_result"
    }
   ],
   "source": [
    "power_demand_average = power_demand_countries.groupby(['AreaName']).mean()\n",
    "power_demand_average = power_demand_average['TotalLoadValue']\n",
    "power_demand_average"
   ]
  },
  {
   "cell_type": "code",
   "execution_count": 21,
   "metadata": {},
   "outputs": [
    {
     "data": {
      "image/png": "[encoded data removed]",
      "text/plain": [
       "<Figure size 432x288 with 1 Axes>"
      ]
     },
     "metadata": {
      "needs_background": "light"
     },
     "output_type": "display_data"
    },
    {
     "data": {
      "text/plain": [
       "Text(0, 0.5, 'Average consumption')"
      ]
     },
     "execution_count": 21,
     "metadata": {},
     "output_type": "execute_result"
    },
    {
     "data": {
      "image/png": "[encoded data removed]",
      "text/plain": [
       "<Figure size 432x288 with 1 Axes>"
      ]
     },
     "metadata": {
      "needs_background": "light"
     },
     "output_type": "display_data"
    }
   ],
   "source": [
    "power_demand_monthly_average = power_demand_monthly/power_demand_average\n",
    "\n",
    "result = power_demand_monthly_average.unstack()\n",
    "result.plot()\n",
    "plt.xlabel('Months')\n",
    "plt.ylabel('Average consumption')\n",
    "plt.show()\n",
    "\n",
    "plt.plot(result)\n",
    "plt.xlabel('Months')\n",
    "plt.ylabel('Average consumption')"
   ]
  },
  {
   "cell_type": "markdown",
   "metadata": {},
   "source": [
    "***Sweden is a country with a colder climet that in the winter months will rely more on electricity \n",
    "while their summers thend to be mild which doesn't requiere as much of a colling system as in Croatia. \n",
    "While the landscape and the climate changes from region in Croatia there are higere tendencies of a \n",
    "mild winter and hotter summer which results in the need of a cooling device.***"
   ]
  },
  {
   "cell_type": "markdown",
   "metadata": {},
   "source": [
    "# Exercise 3 - calculate the hourly average consumption as deviation from mean consumption\n",
    "\n",
    "Do the same as in exercise 2, but now for the hourly average consumption. I.e. how much is consumed on each of the 24 hours of a day?\n",
    "\n",
    "Which country has the lowest, which the highest variability? What may be the reason for it?"
   ]
  },
  {
   "cell_type": "code",
   "execution_count": null,
   "metadata": {},
   "outputs": [],
   "source": []
  },
  {
   "cell_type": "markdown",
   "metadata": {},
   "source": [
    "# Exercise 4 - Calculate the average load per capita\n",
    "\n",
    "Below you find a table with population data for our selected countries. You should use it to calculate per capita consumption.\n",
    "\n",
    "(1) Calculate the average load in all countries using ```groupby``` and ```mean``` and select the column ```TotalLoadValue``` from the result.\n",
    "\n",
    "(2) Divide the result by the ```Population``` column of the dataframe ```population```. Observe, how broadcasting helps here nicely.\n",
    "\n",
    "(3) Plot the result. Which country has the highest load, which the lowest? What may be the reason? In which unit is this value? How could we convert it to MWh per year?"
   ]
  },
  {
   "cell_type": "code",
   "execution_count": 22,
   "metadata": {},
   "outputs": [
    {
     "data": {
      "text/html": [
       "<div>\n",
       "<style scoped>\n",
       "    .dataframe tbody tr th:only-of-type {\n",
       "        vertical-align: middle;\n",
       "    }\n",
       "\n",
       "    .dataframe tbody tr th {\n",
       "        vertical-align: top;\n",
       "    }\n",
       "\n",
       "    .dataframe thead th {\n",
       "        text-align: right;\n",
       "    }\n",
       "</style>\n",
       "<table border=\"1\" class=\"dataframe\">\n",
       "  <thead>\n",
       "    <tr style=\"text-align: right;\">\n",
       "      <th></th>\n",
       "      <th>Country</th>\n",
       "      <th>Population</th>\n",
       "    </tr>\n",
       "    <tr>\n",
       "      <th>Country</th>\n",
       "      <th></th>\n",
       "      <th></th>\n",
       "    </tr>\n",
       "  </thead>\n",
       "  <tbody>\n",
       "    <tr>\n",
       "      <th>Austria</th>\n",
       "      <td>Austria</td>\n",
       "      <td>8840521</td>\n",
       "    </tr>\n",
       "    <tr>\n",
       "      <th>Croatia</th>\n",
       "      <td>Croatia</td>\n",
       "      <td>4087843</td>\n",
       "    </tr>\n",
       "    <tr>\n",
       "      <th>Germany</th>\n",
       "      <td>Germany</td>\n",
       "      <td>82905782</td>\n",
       "    </tr>\n",
       "    <tr>\n",
       "      <th>Italy</th>\n",
       "      <td>Italy</td>\n",
       "      <td>60421760</td>\n",
       "    </tr>\n",
       "    <tr>\n",
       "      <th>Spain</th>\n",
       "      <td>Spain</td>\n",
       "      <td>46796540</td>\n",
       "    </tr>\n",
       "    <tr>\n",
       "      <th>Sweden</th>\n",
       "      <td>Sweden</td>\n",
       "      <td>10175214</td>\n",
       "    </tr>\n",
       "    <tr>\n",
       "      <th>United Kingdom</th>\n",
       "      <td>United Kingdom</td>\n",
       "      <td>66460344</td>\n",
       "    </tr>\n",
       "  </tbody>\n",
       "</table>\n",
       "</div>"
      ],
      "text/plain": [
       "                       Country  Population\n",
       "Country                                   \n",
       "Austria                Austria     8840521\n",
       "Croatia                Croatia     4087843\n",
       "Germany                Germany    82905782\n",
       "Italy                    Italy    60421760\n",
       "Spain                    Spain    46796540\n",
       "Sweden                  Sweden    10175214\n",
       "United Kingdom  United Kingdom    66460344"
      ]
     },
     "execution_count": 22,
     "metadata": {},
     "output_type": "execute_result"
    }
   ],
   "source": [
    "population = pd.DataFrame({'Country': [\"Austria\", \"Croatia\", \"Germany\", \"Italy\", \"Spain\", \"Sweden\", \"United Kingdom\"],\n",
    "             'Population': [8840521, 4087843, 82905782, 60421760, 46796540, 10175214, 66460344]})\n",
    "\n",
    "population.index = population[\"Country\"]\n",
    "\n",
    "population"
   ]
  },
  {
   "cell_type": "code",
   "execution_count": null,
   "metadata": {},
   "outputs": [],
   "source": []
  }
 ],
 "metadata": {
  "kernelspec": {
   "display_name": "Python 3",
   "language": "python",
   "name": "python3"
  },
  "language_info": {
   "codemirror_mode": {
    "name": "ipython",
    "version": 3
   },
   "file_extension": ".py",
   "mimetype": "text/x-python",
   "name": "python",
   "nbconvert_exporter": "python",
   "pygments_lexer": "ipython3",
   "version": "3.7.6"
  }
 },
 "nbformat": 4,
 "nbformat_minor": 4
}
