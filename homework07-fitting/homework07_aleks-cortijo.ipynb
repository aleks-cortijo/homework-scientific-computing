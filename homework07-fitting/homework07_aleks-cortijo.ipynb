{
 "cells": [
  {
   "cell_type": "markdown",
   "metadata": {},
   "source": [
    "# Homework 07"
   ]
  },
  {
   "cell_type": "markdown",
   "metadata": {},
   "source": [
    "### Preparation...\n",
    "\n",
    "Run this code from the lecture to be ready for the exercises below!"
   ]
  },
  {
   "cell_type": "code",
   "execution_count": 1,
   "metadata": {},
   "outputs": [],
   "source": [
    "import glob\n",
    "import os.path\n",
    "\n",
    "import numpy as np\n",
    "import pandas as pd\n",
    "import matplotlib.pyplot as plt\n",
    "\n",
    "\n",
    "from sklearn import datasets, linear_model, ensemble, neural_network\n",
    "from sklearn.metrics import mean_squared_error, r2_score\n",
    "from sklearn.model_selection import train_test_split\n",
    "\n",
    "from pathlib import Path"
   ]
  },
  {
   "cell_type": "code",
   "execution_count": 2,
   "metadata": {},
   "outputs": [],
   "source": [
    "CONFIG_FILE = 'C:/ .. /entsoe-data.config'\n",
    "\n",
    "if not os.path.exists(CONFIG_FILE):\n",
    "    download_dir = input('Path to ENTSO-E data folder: ')\n",
    "    if not os.path.isdir(download_dir):\n",
    "        raise RuntimeError(f'Invalid download_dir, please run cell again: {download_dir}')\n",
    "    with open(CONFIG_FILE, 'w') as f:\n",
    "        f.write(download_dir)\n",
    "else:\n",
    "    with open(CONFIG_FILE) as f:\n",
    "        download_dir = f.read()\n",
    "        \n",
    "# Clear the output after this cell if you want to aovid having your path in the notebook (or execute it twice)!"
   ]
  },
  {
   "cell_type": "code",
   "execution_count": 3,
   "metadata": {},
   "outputs": [
    {
     "data": {
      "text/plain": [
       "True"
      ]
     },
     "execution_count": 3,
     "metadata": {},
     "output_type": "execute_result"
    }
   ],
   "source": [
    "os.getcwd()\n",
    "os.path.exists(CONFIG_FILE)"
   ]
  },
  {
   "cell_type": "code",
   "execution_count": 4,
   "metadata": {},
   "outputs": [
    {
     "name": "stdout",
     "output_type": "stream",
     "text": [
      "Concatenating 68 csv files...\n",
      "Loading done.\n"
     ]
    }
   ],
   "source": [
    "def read_single_csv_entso_e(file):\n",
    "    return pd.read_csv(file, sep='\\t', encoding='utf-16', parse_dates=[\"DateTime\"])\n",
    "\n",
    "\n",
    "def load_complete_entso_e_data(directory):\n",
    "    pattern = Path(directory) / '*.csv'\n",
    "    files = glob.glob(str(pattern))\n",
    "\n",
    "    if not files:\n",
    "        raise ValueError(f\"No files found when searching in {pattern}, wrong directory?\")\n",
    "    \n",
    "    print(f'Concatenating {len(files)} csv files...')\n",
    "\n",
    "    each_csv_file = [read_single_csv_entso_e(file) for file in files]\n",
    "    data = pd.concat(each_csv_file, ignore_index=True)\n",
    "\n",
    "    data = data.sort_values(by=[\"AreaName\", \"DateTime\"])\n",
    "    data = data.set_index(\"DateTime\")\n",
    "\n",
    "    print(\"Loading done.\")\n",
    "\n",
    "    return data\n",
    "\n",
    "\n",
    "power_demand = load_complete_entso_e_data(download_dir)"
   ]
  },
  {
   "cell_type": "code",
   "execution_count": 29,
   "metadata": {},
   "outputs": [],
   "source": [
    "def get_hourly_country_data(data, country):\n",
    "    ret_data = data[data[\"AreaName\"] == country].interpolate()\n",
    "    # ret_data = ret_data.set_index(\"DateTime\")\n",
    "    ret_data = ret_data.resample(\"1h\").mean().interpolate()\n",
    "    return ret_data\n",
    "\n",
    "power_demand_at_hourly = get_hourly_country_data(power_demand, \"Austria\")[\"2015-01-01\":\"2019-12-31\"]"
   ]
  },
  {
   "cell_type": "markdown",
   "metadata": {},
   "source": [
    "## Exercise 1\n",
    "\n",
    "Explain the following terms:\n",
    "\n",
    "**Input feature:** input values used for training \n",
    "\n",
    "**Output feature:** values that are predicted by the algorithm\n",
    "\n",
    "**Fit a function to data:** minimize residuals sum of squares\n",
    "\n",
    "**Training data:** part of the data that is used to train the algorithm; ~80% of data points\n",
    "\n",
    "**Test data:** part of the data to see how well the fitted function predicts; 20%\n",
    "\n",
    "\n",
    "    "
   ]
  },
  {
   "cell_type": "markdown",
   "metadata": {},
   "source": [
    "## Exercise 2\n",
    "\n",
    "In lecture07 we created a plot of the ratio of actual load and predicted load for Austria step by step (Exercise 04). Now put all of this together in one function which takes one parameter `country` as input and calculates and plots the figure of Exercise 04 for this country! The model should be trained on 2015-2019 data and then you should predict for 2020 and compare it to observations. Also do a training/test split and print the R2 for both datasets.\n",
    "\n",
    "Apply the function to the following countries and show the results in one plot: Austria, Germany, Switzerland, Italy, Spain, Sweden, United Kingdom.\n",
    "\n",
    "(1) Print the country name. Get the data for the specific country using ```get_hourly_country_data``` from the lecture and extract two periods, i.e 2015-2019 and 2020 in two separate dataframes.\n",
    "\n",
    "(2) Define X (the input features, i.e. the indicators for time) and Y (i.e. the output feature, the electricity load). Observe that for training, we use the period 2015-2019.\n",
    "\n",
    "(3) Do a train/test split\n",
    "\n",
    "(4) Fit the input features to the output feature using a ```RandomForestRegressor```\n",
    "\n",
    "(5) Predict the output with the training data and the test data and compute the R^2 for both!\n",
    "\n",
    "(6) Print the R^2.\n",
    "\n",
    "(7) Create a new variable ```X_2020``` which contains the input features for the year 2020.\n",
    "\n",
    "(8) Predict with your model the load for 2020.\n",
    "\n",
    "(9) Assign your prediction back to the dataframe in a new column and calculate the monthly mean for prediction and for observed load. You might need to copy the dataframe first by doing something like `power_demand_hourly = power_demand_hourly.copy()` (otherwise it might be just a slice of the complete time range and then you can't add a column for some rows only).\n",
    "\n",
    "(10) Plot the ratio of load and prediction. With ```label=country```, you can add a label to your plot for making a legend.\n",
    "\n",
    "(11) Execute the function for the following countries: Austria, Germany, Switzerland, Italy, Spain, Sweden, United Kingdom.\n",
    "\n",
    "(12) After calling the functions, use ```plt.legend()``` to show a legend."
   ]
  },
  {
   "cell_type": "code",
   "execution_count": 32,
   "metadata": {},
   "outputs": [],
   "source": [
    "def pred2020(country):\n",
    "    print(f\"{country}\\n\")\n",
    "    data_hourly_t1 = get_hourly_country_data(power_demand, country)['2015-01-01':'2019-12-31']\n",
    "    data_hourly_t2 = get_hourly_country_data(power_demand, country)['2020-01-01':'2020-12-31']\n",
    "        \n",
    "    # input & output feature\n",
    "    X = np.array([data_hourly_t1.index.dayofyear.values,\n",
    "     data_hourly_t1.index.weekday.values,\n",
    "     data_hourly_t1.index.hour.values]).T\n",
    "    Y = data_hourly_t1[\"TotalLoadValue\"].values\n",
    "    \n",
    "    # test & training data\n",
    "    X_training, X_test, Y_training, Y_test = train_test_split(X, Y, test_size=0.2)\n",
    "    \n",
    "    # train the model \n",
    "    forest_split_set = ensemble.RandomForestRegressor()\n",
    "    forest_split_set.fit(X_training, Y_training)\n",
    "    \n",
    "    # prediction\n",
    "    prediction_training = forest_split_set.predict(X_training)\n",
    "    prediction_test = forest_split_set.predict(X_test)\n",
    "    \n",
    "    # r^2\n",
    "    r2_training = r2_score(Y_training, prediction_training)\n",
    "    print(f\"R^2 training {country}: {r2_training}\")\n",
    "    r2_test = r2_score(Y_test, prediction_test)\n",
    "    print(f\"R^2 test {country}: {r2_test}\\n\")\n",
    "    \n",
    "    # input features 2020\n",
    "    X_2020 = np.array([data_hourly_t2.index.dayofyear.values,\n",
    "     data_hourly_t2.index.weekday.values,\n",
    "     data_hourly_t2.index.hour.values]).T\n",
    "    \n",
    "    # prediction 2020\n",
    "    data_hourly_t2['prediction_2020'] = forest_split_set.predict(X_2020)\n",
    "    \n",
    "    # mean\n",
    "    proportion = data_hourly_t2.TotalLoadValue.resample(\"1m\").mean() \n",
    "              / data_hourly_t2.prediction_2020.resample(\"1m\").mean()\n",
    "\n",
    "    proportion.plot(label=country)\n",
    "    \n",
    "    return (r2_training, r2_test)   \n",
    "\n"
   ]
  },
  {
   "cell_type": "code",
   "execution_count": 76,
   "metadata": {},
   "outputs": [
    {
     "name": "stdout",
     "output_type": "stream",
     "text": [
      "Austria\n",
      "\n",
      "R^2 training Austria: 0.9920815789625279\n",
      "R^2 test Austria: 0.9423725455817643\n",
      "\n",
      "Germany\n",
      "\n",
      "R^2 training Germany: 0.993620185304506\n",
      "R^2 test Germany: 0.9567696340369166\n",
      "\n",
      "Switzerland\n",
      "\n",
      "R^2 training Switzerland: 0.9822503381532124\n",
      "R^2 test Switzerland: 0.8794204080523235\n",
      "\n",
      "Italy\n",
      "\n",
      "R^2 training Italy: 0.996081565034986\n",
      "R^2 test Italy: 0.9702277748714639\n",
      "\n",
      "Spain\n",
      "\n",
      "R^2 training Spain: 0.9926249114935228\n",
      "R^2 test Spain: 0.9467575262152694\n",
      "\n",
      "Sweden\n",
      "\n",
      "R^2 training Sweden: 0.9924881227542206\n",
      "R^2 test Sweden: 0.9412537193873174\n",
      "\n",
      "United Kingdom\n",
      "\n",
      "R^2 training United Kingdom: 0.9779796674000323\n",
      "R^2 test United Kingdom: 0.8311602606178048\n",
      "\n",
      "['Austria', 'Germany', 'Switzerland', 'Italy', 'Spain', 'Sweden', 'United Kingdom']\n"
     ]
    }
   ],
   "source": [
    "countries = ['Austria', 'Germany', 'Switzerland', 'Italy', 'Spain', 'Sweden', 'United Kingdom']\n",
    "r2=[]\n",
    "\n",
    "for country in countries:\n",
    "    r2_training, r2_test = pred2020(country)\n",
    "    r2.append([r2_training, r2_test])\n",
    "    \n",
    "r2 = pd.DataFrame(r2, columns = ['r2_training', 'r2_test'])\n",
    "r2['Country'] = countries\n",
    "r2 = r2.set_index('Country')\n",
    "r2['Difference_training_vs_test'] = r2.r2_training - r2.r2_test\n",
    "\n",
    "print(countries)"
   ]
  },
  {
   "cell_type": "markdown",
   "metadata": {},
   "source": [
    "## Exercise 3\n",
    "Answer the following questions:"
   ]
  },
  {
   "cell_type": "markdown",
   "metadata": {},
   "source": [
    "(1) Which country had the strongest decline in electricity consumption?"
   ]
  },
  {
   "cell_type": "code",
   "execution_count": 43,
   "metadata": {},
   "outputs": [
    {
     "data": {
      "text/html": [
       "<div>\n",
       "<style scoped>\n",
       "    .dataframe tbody tr th:only-of-type {\n",
       "        vertical-align: middle;\n",
       "    }\n",
       "\n",
       "    .dataframe tbody tr th {\n",
       "        vertical-align: top;\n",
       "    }\n",
       "\n",
       "    .dataframe thead th {\n",
       "        text-align: right;\n",
       "    }\n",
       "</style>\n",
       "<table border=\"1\" class=\"dataframe\">\n",
       "  <thead>\n",
       "    <tr style=\"text-align: right;\">\n",
       "      <th></th>\n",
       "      <th>r2_training</th>\n",
       "      <th>r2_test</th>\n",
       "      <th>Difference_training_vs_test</th>\n",
       "    </tr>\n",
       "    <tr>\n",
       "      <th>Country</th>\n",
       "      <th></th>\n",
       "      <th></th>\n",
       "      <th></th>\n",
       "    </tr>\n",
       "  </thead>\n",
       "  <tbody>\n",
       "    <tr>\n",
       "      <th>Austria</th>\n",
       "      <td>0.991858</td>\n",
       "      <td>0.938443</td>\n",
       "      <td>0.053415</td>\n",
       "    </tr>\n",
       "    <tr>\n",
       "      <th>Germany</th>\n",
       "      <td>0.993667</td>\n",
       "      <td>0.956207</td>\n",
       "      <td>0.037460</td>\n",
       "    </tr>\n",
       "    <tr>\n",
       "      <th>Switzerland</th>\n",
       "      <td>0.982688</td>\n",
       "      <td>0.869942</td>\n",
       "      <td>0.112746</td>\n",
       "    </tr>\n",
       "    <tr>\n",
       "      <th>Italy</th>\n",
       "      <td>0.996153</td>\n",
       "      <td>0.971251</td>\n",
       "      <td>0.024902</td>\n",
       "    </tr>\n",
       "    <tr>\n",
       "      <th>Spain</th>\n",
       "      <td>0.992582</td>\n",
       "      <td>0.949569</td>\n",
       "      <td>0.043013</td>\n",
       "    </tr>\n",
       "    <tr>\n",
       "      <th>Sweden</th>\n",
       "      <td>0.992314</td>\n",
       "      <td>0.944527</td>\n",
       "      <td>0.047787</td>\n",
       "    </tr>\n",
       "    <tr>\n",
       "      <th>United Kingdom</th>\n",
       "      <td>0.977860</td>\n",
       "      <td>0.833136</td>\n",
       "      <td>0.144725</td>\n",
       "    </tr>\n",
       "  </tbody>\n",
       "</table>\n",
       "</div>"
      ],
      "text/plain": [
       "                r2_training   r2_test  Difference_training_vs_test\n",
       "Country                                                           \n",
       "Austria            0.991858  0.938443                     0.053415\n",
       "Germany            0.993667  0.956207                     0.037460\n",
       "Switzerland        0.982688  0.869942                     0.112746\n",
       "Italy              0.996153  0.971251                     0.024902\n",
       "Spain              0.992582  0.949569                     0.043013\n",
       "Sweden             0.992314  0.944527                     0.047787\n",
       "United Kingdom     0.977860  0.833136                     0.144725"
      ]
     },
     "execution_count": 43,
     "metadata": {},
     "output_type": "execute_result"
    }
   ],
   "source": [
    "r2"
   ]
  },
  {
   "cell_type": "code",
   "execution_count": null,
   "metadata": {},
   "outputs": [],
   "source": []
  },
  {
   "cell_type": "markdown",
   "metadata": {},
   "source": [
    "(2) For which country does the fit work best?"
   ]
  },
  {
   "cell_type": "code",
   "execution_count": 44,
   "metadata": {},
   "outputs": [
    {
     "data": {
      "text/html": [
       "<div>\n",
       "<style scoped>\n",
       "    .dataframe tbody tr th:only-of-type {\n",
       "        vertical-align: middle;\n",
       "    }\n",
       "\n",
       "    .dataframe tbody tr th {\n",
       "        vertical-align: top;\n",
       "    }\n",
       "\n",
       "    .dataframe thead th {\n",
       "        text-align: right;\n",
       "    }\n",
       "</style>\n",
       "<table border=\"1\" class=\"dataframe\">\n",
       "  <thead>\n",
       "    <tr style=\"text-align: right;\">\n",
       "      <th></th>\n",
       "      <th>r2_training</th>\n",
       "      <th>r2_test</th>\n",
       "      <th>Difference_training_vs_test</th>\n",
       "    </tr>\n",
       "    <tr>\n",
       "      <th>Country</th>\n",
       "      <th></th>\n",
       "      <th></th>\n",
       "      <th></th>\n",
       "    </tr>\n",
       "  </thead>\n",
       "  <tbody>\n",
       "    <tr>\n",
       "      <th>Italy</th>\n",
       "      <td>0.996153</td>\n",
       "      <td>0.971251</td>\n",
       "      <td>0.024902</td>\n",
       "    </tr>\n",
       "  </tbody>\n",
       "</table>\n",
       "</div>"
      ],
      "text/plain": [
       "         r2_training   r2_test  Difference_training_vs_test\n",
       "Country                                                    \n",
       "Italy       0.996153  0.971251                     0.024902"
      ]
     },
     "execution_count": 44,
     "metadata": {},
     "output_type": "execute_result"
    }
   ],
   "source": [
    "r2[r2.r2_test == r2.r2_test.max()]"
   ]
  },
  {
   "cell_type": "markdown",
   "metadata": {},
   "source": [
    "(3) Where is the difference of R2 between training data and test data the largest? What does that mean?"
   ]
  },
  {
   "cell_type": "code",
   "execution_count": 46,
   "metadata": {},
   "outputs": [
    {
     "data": {
      "text/plain": [
       "'United Kingdom'"
      ]
     },
     "execution_count": 46,
     "metadata": {},
     "output_type": "execute_result"
    }
   ],
   "source": [
    "r2.Difference_training_vs_test.index.max()"
   ]
  },
  {
   "cell_type": "markdown",
   "metadata": {},
   "source": [
    "(4) Look into the data of the country with the largest difference in the R2 of the training and the test data. Can you explain what is happening there? Might this effect our model?"
   ]
  },
  {
   "cell_type": "code",
   "execution_count": null,
   "metadata": {},
   "outputs": [],
   "source": [
    "power_demand_uk = get_hourly_country_data(power_demand, 'United Kingdom')['2015-01-01':'2019-12-31']\n",
    "power_demand_uk.plot()"
   ]
  },
  {
   "cell_type": "markdown",
   "metadata": {},
   "source": [
    "## Exercise 4"
   ]
  },
  {
   "cell_type": "markdown",
   "metadata": {},
   "source": [
    "The difference between model prediction and actual observation may help understanding how people behaved during the lockdown. In this exercise, you should come up with your own hypothesis of how people behaved and how this affected power consumption. You may, e.g., look into demand on different weekdays or in different hours. Once you have a hypothesis and a theory, why this hypothesis may be valid, test it with the model: is your hypothesis covered by what you observe in the load data?"
   ]
  },
  {
   "cell_type": "code",
   "execution_count": 63,
   "metadata": {},
   "outputs": [],
   "source": [
    "def power_demand_2020(country):\n",
    "    print(f'{country}')\n",
    "    \n",
    "    data_hourly_t1 = get_hourly_country_data(power_demand, country)['2015-01-01':'2019-12-31']\n",
    "    data_hourly_t2 = get_hourly_country_data(power_demand, country)['2020-01-01':]\n",
    "    \n",
    "    # input & output features\n",
    "    X = np.array([\n",
    "        data_hourly_t1.index.dayofweek.values\n",
    "        ]).T\n",
    "    Y = data_hourly_t1[\"TotalLoadValue\"].values\n",
    "\n",
    "    # training & test data\n",
    "    X_training, X_test, Y_training, Y_test = train_test_split(X, Y, test_size=.2)\n",
    "    \n",
    "    # train model\n",
    "    forest_split_set = ensemble.RandomForestRegressor()\n",
    "    forest_split_set.fit(X_training, Y_training)\n",
    "\n",
    "    # prediction\n",
    "    prediction_training = forest_split_set.predict(X_training)\n",
    "    prediction_test = forest_split_set.predict(X_test)\n",
    "\n",
    "    # R^2\n",
    "    r2_training = r2_score(Y_training, prediction_training)\n",
    "    print(f'R2 training for {country}:\\n {r2_training}')\n",
    "    r2_test = r2_score(Y_test, prediction_test)\n",
    "    print(f'R2 for test dataset {r2_test}\\n')\n",
    "\n",
    "    # input features 2020\n",
    "    X_2020 = np.array([\n",
    "       data_hourly_t2.index.dayofweek.values\n",
    "        ]).T\n",
    "\n",
    "    # predict 2020\n",
    "    data_hourly_t2[\"prediction_2020\"] = forest_split_set.predict(X_2020)\n",
    "\n",
    "    return (r2_training, r2_test, data_hourly_t2)"
   ]
  },
  {
   "cell_type": "code",
   "execution_count": 65,
   "metadata": {},
   "outputs": [
    {
     "name": "stdout",
     "output_type": "stream",
     "text": [
      "Austria\n",
      "R2 training for Austria:\n",
      " 0.18015901175962312\n",
      "R2 for test dataset 0.17858503438351603\n",
      "\n"
     ]
    }
   ],
   "source": [
    "r2 = []\n",
    "\n",
    "for country in countries[:1]:\n",
    "    r2_training, r2_test, power_demand_for_2020 = power_demand_2020(country)\n",
    "    r2.append([r2_training, r2_test])\n",
    "    \n",
    "r2 = pd.DataFrame(r2, columns = ['r2_training', 'r2_test'])\n",
    "r2['Country'] = countries[:1]\n",
    "r2 = r2.set_index('Country')\n",
    "r2['Difference_training_vs_test'] = r2.r2_training - r2.r2_test"
   ]
  },
  {
   "cell_type": "code",
   "execution_count": 74,
   "metadata": {},
   "outputs": [
    {
     "name": "stdout",
     "output_type": "stream",
     "text": [
      "DateTime\n",
      "4    0.848041\n",
      "Name: obs_vs_pred, dtype: float64\n"
     ]
    },
    {
     "data": {
      "text/plain": [
       "Text(0.5, 1.0, 'Effect of power consumption 2020 in Austria by weekday')"
      ]
     },
     "execution_count": 74,
     "metadata": {},
     "output_type": "execute_result"
    },
    {
     "data": {
      "image/png": "[encoded data removed]",
      "text/plain": [
       "<Figure size 432x288 with 1 Axes>"
      ]
     },
     "metadata": {
      "needs_background": "light"
     },
     "output_type": "display_data"
    }
   ],
   "source": [
    "power_demand_for_2020['day_of_week'] = power_demand_for_2020.index.day_name()\n",
    "power_demand_for_2020['obs_vs_pred'] = power_demand_for_2020.TotalLoadValue / power_demand_for_2020.prediction_2020\n",
    "\n",
    "before_lockdown = power_demand_for_2020[power_demand_for_2020.index <= '2020-03-15']\n",
    "after_lockdown = power_demand_for_2020[power_demand_for_2020.index > '2020-03-15']\n",
    "\n",
    "mean_diff_pred_vs_obs = after_lockdown.obs_vs_pred.groupby(after_lockdown.index.weekday).mean()\n",
    "print(mean_diff_pred_vs_obs[mean_diff_pred_vs_obs == mean_diff_pred_vs_obs.min()])\n",
    "\n",
    "\n",
    "before_lockdown.obs_vs_pred.groupby(before_lockdown.index.weekday).mean().plot(label=\"before lockdown\")\n",
    "after_lockdown.obs_vs_pred.groupby(after_lockdown.index.weekday).mean().plot(label= \"after lockdown\")\n",
    "plt.legend(title=\"Power consumption 2020\")\n",
    "plt.xlabel(\"Day of the week\\n(Note: 0=Monday)\")\n",
    "plt.ylabel(\"Share of actual on\\npredicted power consumption\")\n",
    "plt.title(\"Effect of power consumption 2020 in Austria by weekday\")"
   ]
  },
  {
   "cell_type": "markdown",
   "metadata": {},
   "source": [
    "## Exercise 5\n",
    "\n",
    "Download ERA5 temperature data for the next lecture.\n",
    "\n",
    "First install necessary dependencies `xarray` and `cdsapi`:"
   ]
  },
  {
   "cell_type": "code",
   "execution_count": null,
   "metadata": {},
   "outputs": [],
   "source": [
    "conda install --yes xarray\n",
    "conda install --yes -c conda-forge cdsapi"
   ]
  },
  {
   "cell_type": "markdown",
   "metadata": {},
   "source": [
    "The [Copernicus Climate Data Store](https://cds.climate.copernicus.eu/) provides [reanalysis climate data](https://cds.climate.copernicus.eu/cdsapp#!/search?type=dataset&keywords=((%20%22Product%20type:%20Reanalysis%22%20))). We are going to download [ERA5](https://cds.climate.copernicus.eu/cdsapp#!/dataset/reanalysis-era5-land?tab=form) data and use the [temperature 2m above ground values](https://apps.ecmwf.int/codes/grib/param-db?id=167)."
   ]
  },
  {
   "cell_type": "markdown",
   "metadata": {},
   "source": [
    "Register for the CDS API and install the API key by following [this guide](https://cds.climate.copernicus.eu/api-how-to). You don't need to run `pip install cdsapi`, this has been done in the cell above already using conda."
   ]
  },
  {
   "cell_type": "code",
   "execution_count": 23,
   "metadata": {},
   "outputs": [],
   "source": [
    "import cdsapi\n",
    "\n",
    "c = cdsapi.Client()"
   ]
  },
  {
   "cell_type": "code",
   "execution_count": 24,
   "metadata": {},
   "outputs": [],
   "source": [
    "# Add the path to the lecture repository here:\n",
    "PATH_TO_LECTURE_REPO = 'C:/Users/Aleks/lecture-scientific-computing'\n",
    "\n",
    "if not os.path.isdir(Path(PATH_TO_LECTURE_REPO) / 'lecture00-introduction'):\n",
    "    raise RuntimeError(f\"Wrong path to lecture repository: PATH_TO_LECTURE_REPO = {PATH_TO_LECTURE_REPO}\")"
   ]
  },
  {
   "cell_type": "markdown",
   "metadata": {},
   "source": [
    "We'll download data from 2015 to 2020 in a bounding box which covers all countries we used so far for our analysis.\n",
    "To make the download a bit faster, we'll use a [0.5° grid](https://confluence.ecmwf.int/display/CKB/ERA5%3A+Web+API+to+CDS+API) instead of the 0.1° grid. This will download approximately 500MB. The download might take a couple of hours, because the data is prepared on their servers before it can be downloaded."
   ]
  },
  {
   "cell_type": "code",
   "execution_count": 25,
   "metadata": {},
   "outputs": [
    {
     "name": "stderr",
     "output_type": "stream",
     "text": [
      "2020-06-03 13:17:26,237 INFO Sending request to https://cds.climate.copernicus.eu/api/v2/resources/reanalysis-era5-land\n",
      "2020-06-03 13:17:26,900 INFO Request is queued\n",
      "2020-06-03 13:17:31,850 INFO Request is running\n",
      "2020-06-03 15:31:59,595 INFO Request is completed\n",
      "2020-06-03 15:31:59,608 INFO Downloading http://136.156.132.201/cache-compute-0004/cache/data2/adaptor.mars.internal-1591183051.143155-14109-29-85466677-b2b7-422c-8304-0a46d57630dc.nc to C:\\Users\\Aleks\\lecture-scientific-computing\\data\\temperatures_era5.nc.part (473.2M)\n",
      "2020-06-03 15:38:42,496 INFO Download rate 1.2M/s  \n"
     ]
    }
   ],
   "source": [
    "filename = Path(PATH_TO_LECTURE_REPO) / 'data' / 'temperatures_era5.nc'\n",
    "\n",
    "north, west, south, east = 70.,-13.5, 35.5, 24.5\n",
    "\n",
    "c.retrieve(\n",
    "    'reanalysis-era5-land',\n",
    "    {\n",
    "        'format': 'netcdf',\n",
    "        'variable': '2m_temperature',\n",
    "        'area': [\n",
    "            north, west, south, east\n",
    "        ],\n",
    "        'grid': [0.5, 0.5],  # grid in 0.5deg steps in longitude/latitude\n",
    "        'day': [f\"{day:02d}\" for day in range(1, 32)],\n",
    "        'time': [f\"{hour:02d}:00\" for hour in range(24)],\n",
    "        'month': [f\"{month:02d}\" for month in range(1, 13)],\n",
    "        'year': [str(year) for year in range(2015, 2021)],\n",
    "    },\n",
    "    f\"{filename}.part\")\n",
    "\n",
    "# this prevents you from accidentally using broken files:\n",
    "os.rename(f\"{filename}.part\", filename)"
   ]
  },
  {
   "cell_type": "markdown",
   "metadata": {},
   "source": [
    "## Exercise 6\n",
    "\n",
    "Load the file downloaded in exercise 3 and plot the temperature for one location. This is also a test if the download was successful. To load the file import the library `xarray`. Typically it is imported by using `import xarray as xr`. Then load the file using the command `xr.load_dataset(filename)`. Check the type of the return value. Then select the data variable `t2m` (temperature at 2m), select the values for `longitude=16.5` and `latitude=48` by using `temperatures_dataset.t2m.sel(longitude=16.5, latitude=48.)`. Then plot the result by calling `.plot()` on the resulting object.\n",
    "\n",
    "Does the result look reasonable?"
   ]
  },
  {
   "cell_type": "code",
   "execution_count": 60,
   "metadata": {},
   "outputs": [
    {
     "data": {
      "text/plain": [
       "[<matplotlib.lines.Line2D at 0x17e8274f548>]"
      ]
     },
     "execution_count": 60,
     "metadata": {},
     "output_type": "execute_result"
    },
    {
     "data": {
      "image/png": "[encoded data removed]",
      "text/plain": [
       "<Figure size 432x288 with 1 Axes>"
      ]
     },
     "metadata": {
      "needs_background": "light"
     },
     "output_type": "display_data"
    }
   ],
   "source": [
    "import xarray as xr\n",
    "\n",
    "temp_data = xr.load_dataset('C:/.. /data/temperatures_era5.nc')\n",
    "our_temp = temp_data.t2m.sel(longitude = 16.5, latitude = 48.)\n",
    "\n",
    "our_temp.plot()"
   ]
  }
 ],
 "metadata": {
  "kernelspec": {
   "display_name": "Python 3",
   "language": "python",
   "name": "python3"
  },
  "language_info": {
   "codemirror_mode": {
    "name": "ipython",
    "version": 3
   },
   "file_extension": ".py",
   "mimetype": "text/x-python",
   "name": "python",
   "nbconvert_exporter": "python",
   "pygments_lexer": "ipython3",
   "version": "3.7.7"
  }
 },
 "nbformat": 4,
 "nbformat_minor": 4
}
