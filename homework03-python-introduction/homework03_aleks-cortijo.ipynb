{
 "cells": [
  {
   "cell_type": "markdown",
   "metadata": {},
   "source": [
    "# Homework 03 - Python introduction"
   ]
  },
  {
   "cell_type": "markdown",
   "metadata": {},
   "source": [
    "### Exercise 1 - Terminology\n",
    "\n",
    "Describe the following terms with your own words:\n",
    "\n",
    "***Function:*** is a code snippet that has a specific usecase and that can be executed to perform the defined task\n",
    "\n",
    "***Variable:*** A variable is a label that you can assgin values to, it is a reference to a defined value\n",
    "\n",
    "***Calling a function:*** a term used to descirbe the execution of the perviously defined function\n",
    "\n",
    "***String:*** a datatyp in python; inside quotation marks"
   ]
  },
  {
   "cell_type": "markdown",
   "metadata": {},
   "source": [
    "### Exercise 2 - spurious correlations\n",
    "\n",
    "Reproduce a *spurious correlations* plot using `plt.plot()`.\n",
    "\n",
    "Plot the time series `sociology_doctorates` and `space_launches` on a relative scale, i.e. as percentage of the last data point (i.e. years on the x-axis, relative data on the y-axis, the last data point in both time series should be 100%). Add a second plot which displays the relation between both data sets as scatter plot by using `plt.plot(dataset1, dataset2, 'o')` (data set 1 on x-axis, data set 2 on y-axis absolute units, not percentage).\n",
    "\n",
    "Instead using the given time series, you can also use any other spurious correlation, if you want to search a different dataset.\n",
    "\n",
    "Analyze both plots, come up with a wrong conclusion and explain why it is wrong.\n",
    "\n",
    "Don't forget to label the axis!\n",
    "\n",
    "![Spurious correlations](spurious-correlations.svg)\n",
    "\n",
    "Source: https://www.tylervigen.com/spurious-correlations"
   ]
  },
  {
   "cell_type": "code",
   "execution_count": null,
   "metadata": {},
   "outputs": [],
   "source": [
    "sociology_doctorates = [601, 579, 572, 617, 566, 547, 597, 580, 536, 579, 576, 601, 664]\n",
    "space_launches = [54, 46, 42, 50, 43, 41, 46, 39, 37, 45, 45, 41, 54]\n",
    "years = list(range(1997, 2009 + 1))\n",
    "\n",
    "import pandas as pd\n",
    "import numpy as np\n",
    "import math\n",
    "import matplotlib.pyplot as plt\n",
    "\n",
    "\n",
    "percent_sociology_doctorates = [i/sociology_doctorates[-1] for i in sociology_doctorates]\n",
    "percent_space_launches = [i/space_launches[-1] for i in space_launches]\n",
    "\n",
    "plt.plot(percent_sociology_doctorates, marker ='*', label = 'Sociology doctorates')\n",
    "plt.plot(percent_space_launches, marker='*', label = 'Space launches')\n",
    "plt.xlabel ('ongoing year')\n",
    "plt.ylabel ('[%]')\n",
    "plt.title('the more sociology docs we have the more space launches!')\n",
    "# didn't figure out how to correctly apply xticks to manually rename x-axis values\n",
    "plt.legend()\n",
    "\n",
    "plt.show()"
   ]
  },
  {
   "cell_type": "code",
   "execution_count": null,
   "metadata": {},
   "outputs": [],
   "source": [
    "plt.scatter(sociology_doctorates, space_launches, c='g', alpha=0.4)\n",
    "\n",
    "plt.xlabel('Number of Sociology doctorates')\n",
    "plt.ylabel('Number of Space launches')\n",
    "plt.title('Two totally related topics')\n",
    "\n",
    "plt.show()"
   ]
  },
  {
   "cell_type": "code",
   "execution_count": null,
   "metadata": {},
   "outputs": [],
   "source": [
    "correlation = np.corrcoef(sociology_doctorates, space_launches)\n",
    "print(correlation)"
   ]
  },
  {
   "cell_type": "code",
   "execution_count": null,
   "metadata": {},
   "outputs": [],
   "source": [
    "The numbers of sociology doctorates & space launches share the same up and down cycles. \n",
    "They have a pearson correlation coefficent of 0.79, which represents a correlation of 79%.\n",
    "Altough this represents a not negligible correlation of these to datasets, \n",
    "there is no indication whatsoever that a causal relationship exist."
   ]
  },
  {
   "cell_type": "markdown",
   "metadata": {},
   "source": [
    "### Exercise 3 - Flatten the curve\n",
    "\n",
    "Use the logistic growth model to plot an oversimplified version of the [#flattenthecurve](https://www.biospace.com/getasset/fc2b8ad6-697f-49d5-827e-50f4901baf53/) [graphs](https://evilspeculator.com/wp-content/uploads/2020/03/flattenthecurve.jpg).\n",
    "\n",
    "Write a function `new_infections(t, k)` which returns the number of new infections given by the following formula:\n",
    "\n",
    "$i_{\\textrm{new}}(t):=\\frac{e^\\left(-k \\cdot P \\cdot t\\right) \\cdot k \\cdot P^2 \\cdot \\left(-1 + \\frac{P}{i_0}\\right)}{\\left(1 + e^\\left(-k \\cdot P \\cdot t \\right) \\cdot \\left(-1 + \\frac{P}{i_0}\\right) \\right)^2}$\n",
    "\n",
    "Plot the number of infections for $t=0,\\ldots,250$, $P=1\\,000\\,000$, $i_0=1$ and $k= \\frac{3}{P \\cdot 10}$.\n",
    "\n",
    "Also add a horizontal line and label it with \"healthcare system capacity\".\n",
    "\n",
    "Then analyze the plot for different values of $k$ and explain in detail why one should not use this model/plot to predict the outcome of an epidemic.\n",
    "\n",
    "Bonus question: Is there something one can still learn from it?"
   ]
  },
  {
   "cell_type": "code",
   "execution_count": null,
   "metadata": {},
   "outputs": [],
   "source": [
    "from math import e\n",
    "\n",
    "k = 3 / (P * 10)\n",
    "k2 = 2 / (P * 10)\n",
    "# np.arange was the only type i came up with to get the function return infection_number?\n",
    "t = np.arange(251)\n",
    "P = 1000000\n",
    "\n",
    "\n",
    "def new_infections (t, k):\n",
    "    infection_number = ((e**(-k*P*t))*k*P**2*(-1+(P/1))) / ((1+(e**(-k*P*t))*(-1+(P/1)))**2)\n",
    "    return infection_number\n",
    "\n",
    "def new_infections_2 (t, k2):\n",
    "    infection_number_2 = ((e**(-k2*P*t))*k2*P**2*(-1+(P/1))) / ((1+(e**(-k2*P*t))*(-1+(P/1)))**2)\n",
    "    return infection_number_2\n",
    "\n",
    "\n",
    "\n",
    "# tried to use zip \n",
    "# so that i don't have to define two identical functions, just w/ diffrent values\n",
    "# but didn't firgue it out (not even w/ stockoverflow help)\n",
    "\n",
    "# def infection_rate (t, k):\n",
    "#    return zip(*[new_infetions(t,k)\n",
    "#                 for t,k in zip(t[:0], t[1:])])\n",
    "\n",
    "\n",
    "\n",
    "\n",
    "plt.plot(t,new_infections(t,k),label = 'infections')\n",
    "plt.plot(t,new_infections_2(t,k2),label = 'infections_2')\n",
    "plt.axhline(y=25000, xmin=0.04, xmax=0.9, linewidth=2, color = 'r', label=\"healthcare system capacity\")\n",
    "\n",
    "plt.xlim(0, 120)\n",
    "\n",
    "plt.xlabel('days')\n",
    "plt.ylabel('number of infections')\n",
    "\n",
    "plt.legend()\n",
    "plt.show()"
   ]
  },
  {
   "cell_type": "markdown",
   "metadata": {},
   "source": [
    "##### Motivation\n",
    "\n",
    "The motivation is not important for the programming task. There is no need to understand all details in order to do the exercise.\n",
    "\n",
    "For a fixed population with $P$ individuals, $i(t)$ is the number of infections at time $t$. We assume that every individual stays infectious once infected. \n",
    "\n",
    "Choosing a random pair of individuals from the population, a new infection will take place with probability $2 \\cdot \\frac{i(t)}{P} \\cdot \\frac{P - i(t)}{P}$. If we assume that every infected individual will meet approximately $c$ others in every time step (and infect them if they are not yet infected), there is a total number of contacts $\\frac{c \\cdot P}{2}$ in every time step. That means we expect a total number of new infections:\n",
    "\n",
    "$i_{\\textrm{new}}(t) = \\frac{c \\cdot P}{2} \\cdot 2 \\cdot \\frac{i(t)}{P} \\cdot \\frac{P - i(t)}{P} = \\underbrace{\\frac{c}{P}}_{=:k} \\cdot \\left(i(t) \\cdot \\left(P - i(t)\\right) \\right)$\n",
    "\n",
    "This leads to the differential equation:\n",
    "\n",
    "$i'(t) = i_{\\textrm{new}}(t) = k \\cdot \\left(i(t) \\cdot \\left(P - i(t)\\right) \\right)$\n",
    "\n",
    "A solution is given by:\n",
    "\n",
    "$i(t) = \\frac{P}{\\left(1 + e^\\left(-k \\cdot P \\cdot t \\right) \\cdot \\left(\\frac{P}{i_0} - 1\\right)\\right)}$\n",
    "\n",
    "Differentiating $i(t)$ gives the number of new infections:\n",
    "\n",
    "$i_{\\textrm{new}}(t):=i'(t) = \\frac{e^\\left(-k \\cdot P \\cdot t\\right) \\cdot k \\cdot P^2 \\cdot \\left(-1 + \\frac{P}{i_0}\\right)}{\\left(1 + e^\\left(-k \\cdot P \\cdot t \\right) \\cdot \\left(-1 + \\frac{P}{i_0}\\right) \\right)^2}$\n",
    "\n",
    "\n",
    "[3blue1brown](https://www.youtube.com/watch?v=gxAaO2rsdIs) has a great video on the topic. If you are interested in a model which is a bit closer to the real world, but still quite simple, have a look at the [SIR model](https://www.youtube.com/watch?v=Qrp40ck3WpI). A large part of this is inspired by the [German Wikipiedia page](https://de.wikipedia.org/wiki/Logistische_Funktion)."
   ]
  },
  {
   "cell_type": "markdown",
   "metadata": {},
   "source": [
    "##### Solution\n",
    "\n",
    "Write your code here:"
   ]
  },
  {
   "cell_type": "markdown",
   "metadata": {},
   "source": [
    "##### Bonus: Interactive plot\n",
    "\n",
    "If you want an interactive widget to control the parameter c, you can use the following code.\n",
    "\n",
    "**Warning:** After running `%matplotlib notebook` you cannot plot in other cells any longer. Restart the Jupyter kernel and refresh the browser window to disable again.\n",
    "\n",
    "```Python\n",
    "%matplotlib notebook\n",
    "from ipywidgets import interact\n",
    "\n",
    "line, = plt.plot(x, y)\n",
    "\n",
    "# write here more plotting code (axis label etc)\n",
    "\n",
    "def update(c=3.0/10.):\n",
    "    line.set_ydata([new_infections(t, c  / P) for t in time_range])\n",
    "\n",
    "interact(update);\n",
    "```"
   ]
  },
  {
   "cell_type": "markdown",
   "metadata": {},
   "source": [
    "### Exercise 4 - Fibonacci \n",
    "\n",
    "Write a function `fibonacci(n)` which calculates the n-th [Fibonacci number](https://en.wikipedia.org/wiki/Fibonacci_number), defined by $f(0)=0$, $f(1)=1$ and $f(n) = f(n-1)+f(n-2)$.\n",
    "\n",
    "Use the function to calculate $f(100)$."
   ]
  },
  {
   "cell_type": "code",
   "execution_count": null,
   "metadata": {},
   "outputs": [],
   "source": [
    "Fibonacci_start = [0,1] \n",
    "  \n",
    "def fibonacci(n):    \n",
    "    if n<=len(Fibonacci_start): \n",
    "        return Fibonacci_start[n-1] \n",
    "    else: \n",
    "        current_fib = fibonacci(n-1)+fibonacci(n-2) \n",
    "        Fibonacci_start.append(current_fib) \n",
    "        return current_fib \n",
    "\n",
    "print(fibonacci(100)) "
   ]
  },
  {
   "cell_type": "code",
   "execution_count": null,
   "metadata": {},
   "outputs": [],
   "source": []
  }
 ],
 "metadata": {
  "kernelspec": {
   "display_name": "Python 3",
   "language": "python",
   "name": "python3"
  },
  "language_info": {
   "codemirror_mode": {
    "name": "ipython",
    "version": 3
   },
   "file_extension": ".py",
   "mimetype": "text/x-python",
   "name": "python",
   "nbconvert_exporter": "python",
   "pygments_lexer": "ipython3",
   "version": "3.7.6"
  }
 },
 "nbformat": 4,
 "nbformat_minor": 4
}
